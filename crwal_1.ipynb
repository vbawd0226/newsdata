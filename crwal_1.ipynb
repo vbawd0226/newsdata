{
 "cells": [
  {
   "cell_type": "code",
   "execution_count": 1,
   "metadata": {},
   "outputs": [],
   "source": [
    "from selenium import webdriver\n",
    "from selenium.webdriver.common.keys import Keys\n",
    "from bs4 import BeautifulSoup\n",
    "import datetime\n",
    "import urllib"
   ]
  },
  {
   "cell_type": "code",
   "execution_count": 2,
   "metadata": {},
   "outputs": [],
   "source": [
    "import requests\n",
    "import re"
   ]
  },
  {
   "cell_type": "code",
   "execution_count": 130,
   "metadata": {},
   "outputs": [],
   "source": [
    "driver = webdriver.Chrome(\"C:\\\\Users\\\\infomax\\\\chromedriver_win32\\\\chromedriver\")\n",
    "# driver2=webdriver.Chrome(\"C:\\\\Users\\\\infomax\\\\chromedriver_win32\\\\chromedriver\")"
   ]
  },
  {
   "cell_type": "code",
   "execution_count": 131,
   "metadata": {},
   "outputs": [],
   "source": [
    "driver.implicitly_wait(3)\n",
    "driver.get(\"http://news.einfomax.co.kr/news/searchForm.html\")\n"
   ]
  },
  {
   "cell_type": "code",
   "execution_count": null,
   "metadata": {},
   "outputs": [],
   "source": [
    "# driver.close()"
   ]
  },
  {
   "cell_type": "code",
   "execution_count": 160,
   "metadata": {},
   "outputs": [],
   "source": [
    "#이름 입력 오진우 곽세연\n",
    "driver.find_element_by_xpath(\"/html/body/table/tbody/tr/td/table[3]/tbody/tr[3]/td/table[2]/tbody/tr/td[1]/table/tbody/tr[5]/td/table/tbody/tr[2]/td/table/tbody/tr[2]/td/table/tbody/tr[7]/td[2]/input[1]\").send_keys(\"선재규\")\n",
    "driver.find_element_by_xpath(\"/html/body/table/tbody/tr/td/table[3]/tbody/tr[3]/td/table[2]/tbody/tr/td[1]/table/tbody/tr[5]/td/table/tbody/tr[2]/td/table/tbody/tr[2]/td/table/tbody/tr[7]/td[2]/input[2]\").send_keys(\"곽세연\")"
   ]
  },
  {
   "cell_type": "code",
   "execution_count": 161,
   "metadata": {},
   "outputs": [],
   "source": [
    "#검색하기 클릭\n",
    "\n",
    "driver.find_element_by_xpath(\"\"\"/html/body/table/tbody/tr/td/table[3]/tbody/tr[3]/td/table[2]/tbody/tr/td[1]/table/tbody/tr[6]/td/input\"\"\").click()"
   ]
  },
  {
   "cell_type": "code",
   "execution_count": 45,
   "metadata": {},
   "outputs": [
    {
     "name": "stdout",
     "output_type": "stream",
     "text": [
      "2018-10-28 07:00:01\n"
     ]
    }
   ],
   "source": [
    "#날짜 파싱하기 - 탑기사 날짜 파싱 \n",
    "top_date = driver.find_element_by_xpath(\"\"\"//*[@id=\"viewFINE\"]/table/tbody/tr/td/table[3]/tbody/tr[3]/td/table[2]/tbody/tr/td[1]/table[1]/tbody/tr/td/table/tbody/tr[4]/td/table/tbody/tr[1]/td/div[2]/font[2]\"\"\")\n",
    "top_date.get_attribute('innerHTML')\n",
    "top_date_str = top_date.get_attribute('innerHTML')\n",
    "print(top_date_str)"
   ]
  },
  {
   "cell_type": "code",
   "execution_count": 52,
   "metadata": {},
   "outputs": [
    {
     "name": "stdout",
     "output_type": "stream",
     "text": [
      "2018-10-27 06:29:28\n"
     ]
    }
   ],
   "source": [
    "#날짜 파싱하기 - 바디기사 날짜 파싱 \n",
    "body_date = driver.find_element_by_xpath(\"\"\"//*[@id=\"viewFINE\"]/table/tbody/tr/td/table[3]/tbody/tr[3]/td/table[2]/tbody/tr/td[1]/table[1]/tbody/tr/td/table/tbody/tr[5]/td[4]\"\"\")\n",
    "body_date.get_attribute('innerHTML')\n",
    "body_date_str = body_date.get_attribute('innerHTML')\n",
    "print(body_date_str)"
   ]
  },
  {
   "cell_type": "code",
   "execution_count": 9,
   "metadata": {},
   "outputs": [],
   "source": [
    "#날짜 잘라주기\n",
    "\n",
    "def str_date_to_int(date_str):\n",
    "    y = int(date_str[:4])\n",
    "    m = int(date_str[5:7])\n",
    "    d = int(date_str[8:10])\n",
    "    h = int(date_str[11:13])\n",
    "    mi = int(date_str[14:16])\n",
    "    s = int(date_str[17:19])\n",
    "    print(\"date slicing...\")\n",
    "  \n",
    "    return y,m,d,h,mi,s\n",
    "    "
   ]
  },
  {
   "cell_type": "code",
   "execution_count": 10,
   "metadata": {},
   "outputs": [
    {
     "name": "stdout",
     "output_type": "stream",
     "text": [
      "date slicing...\n",
      "2018-10-28 07:10:01\n",
      "2018-10-24 08:30:30\n",
      "2018-10-29 09:32:16.399083\n"
     ]
    }
   ],
   "source": [
    "#파싱한 날짜 비교가능 형태로 전환\n",
    "\n",
    "y,m,d,h,mi,s = str_date_to_int(top_date_str)\n",
    "\n",
    "standard_date = datetime.datetime(2018,10,24,8,30,30)\n",
    "\n",
    "compare_date = datetime.datetime(y,m,d,h,m,s)\n",
    "\n",
    "now_date = datetime.datetime.now()\n",
    "\n",
    "compare_date > standard_date\n",
    "print(compare_date)\n",
    "print(standard_date)\n",
    "print(now_date)"
   ]
  },
  {
   "cell_type": "code",
   "execution_count": 145,
   "metadata": {},
   "outputs": [],
   "source": [
    "# driver.get(\"http://news.einfomax.co.kr/news/searchForm.html\")\n",
    "\n",
    "# #이름입력 우성문 \n",
    "# driver.find_element_by_xpath(\"/html/body/table/tbody/tr/td/table[3]/tbody/tr[3]/td/table[2]/tbody/tr/td[1]/table/tbody/tr[5]/td/table/tbody/tr[2]/td/table/tbody/tr[2]/td/table/tbody/tr[7]/td[2]/input[1]\").send_keys(\"우성문\")\n",
    "\n",
    "# #검색하기 클릭\n",
    "# driver.find_element_by_xpath(\"\"\"/html/body/table/tbody/tr/td/table[3]/tbody/tr[3]/td/table[2]/tbody/tr/td[1]/table/tbody/tr[6]/td/input\"\"\").click()"
   ]
  },
  {
   "cell_type": "code",
   "execution_count": null,
   "metadata": {},
   "outputs": [],
   "source": []
  },
  {
   "cell_type": "code",
   "execution_count": 162,
   "metadata": {},
   "outputs": [],
   "source": [
    "#탑에 걸려있는 기사에 접근\n",
    "driver.find_element_by_xpath(\"\"\"//*[@id=\"viewFINE\"]/table/tbody/tr/td/table[3]/tbody/tr[3]/td/table[2]/tbody/tr/td[1]/table[1]/tbody/tr/td/table/tbody/tr[4]/td/table/tbody/tr[1]/td/a\"\"\").click()"
   ]
  },
  {
   "cell_type": "code",
   "execution_count": 55,
   "metadata": {},
   "outputs": [],
   "source": [
    "#바디에 있는 기사에 접근\n",
    "driver.find_element_by_xpath(\"\"\"//*[@id=\"viewFINE\"]/table/tbody/tr/td/table[3]/tbody/tr[3]/td/table[2]/tbody/tr/td[1]/table[1]/tbody/tr/td/table/tbody/tr[5]/td[1]/a\"\"\").click()"
   ]
  },
  {
   "cell_type": "code",
   "execution_count": 63,
   "metadata": {},
   "outputs": [],
   "source": [
    "#바디에 있는 기사에 접근2\n",
    "driver.find_element_by_xpath(\"\"\"//*[@id=\"viewFINE\"]/table/tbody/tr/td/table[3]/tbody/tr[3]/td/table[2]/tbody/tr/td[1]/table[1]/tbody/tr/td/table/tbody/tr[10]/td[1]/a\"\"\").click()"
   ]
  },
  {
   "cell_type": "code",
   "execution_count": 67,
   "metadata": {},
   "outputs": [],
   "source": [
    "driver.back()"
   ]
  },
  {
   "cell_type": "code",
   "execution_count": 23,
   "metadata": {},
   "outputs": [],
   "source": [
    "#검색하기\n",
    "driver.find_element_by_xpath(\"\"\"/html/body/table/tbody/tr/td/table[3]/tbody/tr[3]/td/table[2]/tbody/tr/td[1]/table/tbody/tr[6]/td/input\"\"\").click()"
   ]
  },
  {
   "cell_type": "code",
   "execution_count": 72,
   "metadata": {},
   "outputs": [
    {
     "name": "stdout",
     "output_type": "stream",
     "text": [
      "http://news.einfomax.co.kr/news/articleView.html?idxno=3474223\n"
     ]
    }
   ],
   "source": [
    "targetURL = driver.current_url\n",
    "print(targetURL)\n"
   ]
  },
  {
   "cell_type": "code",
   "execution_count": 73,
   "metadata": {},
   "outputs": [
    {
     "name": "stdout",
     "output_type": "stream",
     "text": [
      "[<strong>중국경제</strong>, <strong><!--CM_TITLE-->DHL, 中 물류 비즈니스 현지 기업과 합작으로 전환<!--/CM_TITLE--></strong>, <strong>0</strong>]\n",
      "<td class=\"view_r\" id=\"articleBody\" style=\"padding:10px 0;\">\n",
      "\t\t\t\t\t\t\tSF 익스프레스와 10년 합작..\"공동 브랜드로 전자상거래 수요 공략\"<br/><br/>SCMP \"알리바바-징둥닷컴도 자체 물류 기업 설립해 경쟁 가세\"<br/><br/><br/><br/>(서울=연합인포맥스) 선재규 기자= 독일에 거점을 둔 세계적 종합 물류기업 DHL이 중국 물류 비즈니스를 현지 최대 특송기업 SF 익스프레스에 넘기면서 합작하는 것으로 발표됐다. <br/><br/>사우스차이나모닝포스트(SCMP)가 지난 27일 보도한 바로는 DHL은 SF 익스프레스와 10년 기한의 합작을 통해 공동 브랜드로 중국 전자상거래 수요 공략을 강화키로 했다. <br/><br/>DHL은 합작 조건으로 55억 위안(약 9천22억 원)의 선금을 받고 향후 10년 매출에 기반한 수수료를 추가 지불받기로 한 것으로 발표됐다. <br/><br/>SF 익스프레스는 합작을 통해 DHL의 공급 체인 서비스와 경영 노하우 및 수송과 창고 테크닉에 접근하게 되는 것으로 설명됐다. 양사 합작은 DHL의 중국 내 국제 익스프레스 및 일반 화물 배달과 전자상거래 물류 솔류션도 포함하는 것으로 나타났다. <br/><br/>합작사는 DHL 공급 체인 부문의 인쩌우 대표가 맡는 것으로 나타났다. <br/><br/>SCMP는 중국 소포 배달시장 규모가 지난해 9천760억 위안에 달했다면서, 이를 놓고 중국 전자상거래 거대 기업 알리바바와 징둥닷컴, 그리고 배달 전문업체들 간 경쟁이 치열하다고 지적했다. <br/><br/>신문은 징둥닷컴도 자체 배달 서비스를 출범시켜 알리바바 물류 담당 자회사 차이냐오와 본격적으로 경쟁하기 시작했다고 전했다. 그러면서 전문 물류기업인 STO 익스프레스, YTO 익스프레스, ZTO 익스프레스 및 상하이 윈다 익스프레스도 시장지키기에 부심하고 있다고 덧붙였다. <br/><br/>jksun@yna.co.kr<br/><br/>(끝)\t\t\t\t\t\t\t</td>\n"
     ]
    }
   ],
   "source": [
    "req = requests.get(targetURL)\n",
    "html = req.content\n",
    "\n",
    "soup = BeautifulSoup(html,'lxml')\n",
    "\n",
    "headlines = soup.find_all(\"strong\")\n",
    "print(headlines)\n",
    "bodies = soup.find(id='articleBody')\n",
    "print(bodies)"
   ]
  },
  {
   "cell_type": "code",
   "execution_count": 74,
   "metadata": {},
   "outputs": [
    {
     "data": {
      "text/plain": [
       "'DHL, 中 물류 비즈니스 현지 기업과 합작으로 전환'"
      ]
     },
     "execution_count": 74,
     "metadata": {},
     "output_type": "execute_result"
    }
   ],
   "source": [
    "headlines[1].contents[1]"
   ]
  },
  {
   "cell_type": "code",
   "execution_count": 75,
   "metadata": {},
   "outputs": [
    {
     "name": "stdout",
     "output_type": "stream",
     "text": [
      "\n",
      "\t\t\t\t\t\t\tSF 익스프레스와 10년 합작..\"공동 브랜드로 전자상거래 수요 공략\"\n"
     ]
    }
   ],
   "source": [
    "print(str(bodies.contents[0]))"
   ]
  },
  {
   "cell_type": "code",
   "execution_count": 80,
   "metadata": {},
   "outputs": [],
   "source": [
    "# 기사 첫줄 찾기 \n",
    "\n",
    "def find_first_line(body_content):\n",
    "    for x in range(len(body_content)):\n",
    "        if \"=\" in str(body_content[x]):\n",
    "            return body_content[x]\n",
    "        "
   ]
  },
  {
   "cell_type": "code",
   "execution_count": 22,
   "metadata": {},
   "outputs": [],
   "source": [
    "#기사 첫줄에서 필요없는 부분 제거 \n",
    "\n",
    "def content_to_str(body_content):\n",
    "    body_str = str(body_content)\n",
    "    sign_counter = 0\n",
    "    sign_location = 0\n",
    "    for x in range(len(body_str)):\n",
    "        if body_str[x] == \"=\":\n",
    "            sign_counter += 1\n",
    "        if sign_counter == 2 :\n",
    "            sign_location = x\n",
    "            break\n",
    "            \n",
    "    return body_str[sign_location+1:]\n",
    "            \n",
    "    "
   ]
  },
  {
   "cell_type": "code",
   "execution_count": 23,
   "metadata": {},
   "outputs": [
    {
     "data": {
      "text/plain": [
       "' 이번 주(10월 29일~11월 2일) 뉴욕증시는 글로벌 경기 및 기업 실적 둔화 우려가 지속하면서 불안정한 흐름을 이어갈 전망이다.'"
      ]
     },
     "execution_count": 23,
     "metadata": {},
     "output_type": "execute_result"
    }
   ],
   "source": [
    "content_to_str(bodies.contents[0])"
   ]
  },
  {
   "cell_type": "code",
   "execution_count": 84,
   "metadata": {},
   "outputs": [],
   "source": [
    "article_dict = {}\n",
    "article_dict[top_date_str] = [headlines[1].contents[1], content_to_str(find_first_line(bodies.contents)), targetURL]"
   ]
  },
  {
   "cell_type": "code",
   "execution_count": 90,
   "metadata": {},
   "outputs": [
    {
     "data": {
      "text/plain": [
       "{'2018-10-28 07:00:01': ['DHL, 中 물류 비즈니스 현지 기업과 합작으로 전환',\n",
       "  ' 독일에 거점을 둔 세계적 종합 물류기업 DHL이 중국 물류 비즈니스를 현지 최대 특송기업 SF 익스프레스에 넘기면서 합작하는 것으로 발표됐다. ',\n",
       "  'http://news.einfomax.co.kr/news/articleView.html?idxno=3474223']}"
      ]
     },
     "execution_count": 90,
     "metadata": {},
     "output_type": "execute_result"
    }
   ],
   "source": [
    "article_dict"
   ]
  },
  {
   "cell_type": "code",
   "execution_count": 51,
   "metadata": {},
   "outputs": [],
   "source": [
    "driver.back()"
   ]
  },
  {
   "cell_type": "code",
   "execution_count": null,
   "metadata": {},
   "outputs": [],
   "source": [
    "class article_parser:\n",
    "    \n",
    "    def __init__(self,target_date, name_list):\n",
    "        self.target_date = target_date\n",
    "        self.name_list = name_list\n",
    "        \n",
    "    def open_driver():\n",
    "        driver = webdriver.Chrome(\"C:\\\\Users\\\\infomax\\\\chromedriver_win32\\\\chromedriver\")\n",
    "        driver.implicitly_wait(3)\n",
    "        driver.get(\"http://news.einfomax.co.kr/news/searchForm.html\")\n",
    "       \n",
    "    #날짜 잘라주기\n",
    "\n",
    "    def str_date_to_int(date_str):\n",
    "        y = int(date_str[:4])\n",
    "        m = int(date_str[5:7])\n",
    "        d = int(date_str[8:10])\n",
    "        h = int(date_str[11:13])\n",
    "        mi = int(date_str[14:16])\n",
    "        s = int(date_str[17:19])\n",
    "        print(\"date slicing...\")\n",
    "\n",
    "        return y,m,d,h,mi,s\n",
    "    \n",
    "    def access_to_url():\n",
    "        targetURL = driver.current_url\n",
    "        print(targetURL)\n",
    "        req = requests.get(targetURL)\n",
    "        html = req.content\n",
    "\n",
    "        soup = BeautifulSoup(html,'lxml')\n",
    "\n",
    "        headlines = soup.find_all(\"strong\")\n",
    "        print(headlines)\n",
    "        bodies = soup.find(id='articleBody')\n",
    "        print(bodies)\n",
    "\n",
    "    # 기사 첫줄 찾기 \n",
    "\n",
    "    def find_first_line(body_content):\n",
    "        for x in range(len(body_content)):\n",
    "            if \"=\" in str(body_content[x]):\n",
    "                return body_content[x]\n",
    "\n",
    "    #기사 첫줄에서 필요없는 부분 제거 \n",
    "\n",
    "    def content_to_str(body_content):\n",
    "        body_str = str(body_content)\n",
    "        sign_counter = 0\n",
    "        sign_location = 0\n",
    "        for x in range(len(body_str)):\n",
    "            if body_str[x] == \"=\":\n",
    "                sign_counter += 1\n",
    "            if sign_counter == 2 :\n",
    "                sign_location = x\n",
    "                break\n",
    "\n",
    "        return body_str[sign_location+1:]\n"
   ]
  },
  {
   "cell_type": "code",
   "execution_count": 121,
   "metadata": {},
   "outputs": [],
   "source": [
    "def start_parse():\n",
    "    name_list = [\"우성문\",\"곽세연\",\"오진우\"]\n",
    "    article_list = {}\n",
    "    cri_date = datetime.datetime(2018,10,26,12,0,0)\n",
    "    driver = webdriver.Chrome(\"C:\\\\Users\\\\infomax\\\\chromedriver_win32\\\\chromedriver\")\n",
    "    # driver2=webdriver.Chrome(\"C:\\\\Users\\\\infomax\\\\chromedriver_win32\\\\chromedriver\")\n",
    "    driver.implicitly_wait(3)\n",
    "    driver.get(\"http://news.einfomax.co.kr/news/searchForm.html\")\n",
    "    \n",
    "    \n",
    "    for x in name_list:\n",
    "        driver.get(\"http://news.einfomax.co.kr/news/searchForm.html\")\n",
    "        \n",
    "        driver.find_element_by_xpath(\"/html/body/table/tbody/tr/td/table[3]/tbody/tr[3]/td/table[2]/tbody/tr/td[1]/table/tbody/tr[5]/td/table/tbody/tr[2]/td/table/tbody/tr[2]/td/table/tbody/tr[7]/td[2]/input[1]\").send_keys(x)\n",
    "        driver.find_element_by_xpath(\"\"\"/html/body/table/tbody/tr/td/table[3]/tbody/tr[3]/td/table[2]/tbody/tr/td[1]/table/tbody/tr[6]/td/input\"\"\").click()\n",
    "        #날짜 파싱하기 - 탑기사 날짜 파싱 \n",
    "        top_date = driver.find_element_by_xpath(\"\"\"//*[@id=\"viewFINE\"]/table/tbody/tr/td/table[3]/tbody/tr[3]/td/table[2]/tbody/tr/td[1]/table[1]/tbody/tr/td/table/tbody/tr[4]/td/table/tbody/tr[1]/td/div[2]/font[2]\"\"\")\n",
    "        top_date.get_attribute('innerHTML')\n",
    "        top_date_str = top_date.get_attribute('innerHTML')\n",
    "        print(top_date_str)\n",
    "        \n",
    "        y,m,d,h,mi,s  = str_date_to_int(top_date_str)\n",
    "        \n",
    "        top_article_date = datetime.datetime(y,m,d,h,mi,s)\n",
    "        \n",
    "        if top_article_date > cri_date:\n",
    "            driver.find_element_by_xpath(\"\"\"//*[@id=\"viewFINE\"]/table/tbody/tr/td/table[3]/tbody/tr[3]/td/table[2]/tbody/tr/td[1]/table[1]/tbody/tr/td/table/tbody/tr[4]/td/table/tbody/tr[1]/td/a\"\"\").click()\n",
    "            \n",
    "            targetURL = driver.current_url\n",
    "            print(targetURL)\n",
    "            \n",
    "            req = requests.get(targetURL)\n",
    "            html = req.content\n",
    "\n",
    "            soup = BeautifulSoup(html,'lxml')\n",
    "\n",
    "            headlines = soup.find_all(\"strong\")\n",
    "#             print(headlines)\n",
    "            bodies = soup.find(id='articleBody')\n",
    "#             print(bodies)\n",
    "            article_list[top_date_str] = [headlines[1].contents[1], content_to_str(find_first_line(bodies.contents)), targetURL]\n",
    "#             print(article_list)\n",
    "            \n",
    "            driver.back()\n",
    "        \n",
    "        \n",
    "        \n",
    "        for x in range(5,43):\n",
    "            #날짜 파싱하기 - 바디기사 날짜 파싱 \n",
    "            body_date = driver.find_element_by_xpath(\"\"\"//*[@id=\"viewFINE\"]/table/tbody/tr/td/table[3]/tbody/tr[3]/td/table[2]/tbody/tr/td[1]/table[1]/tbody/tr/td/table/tbody/tr[\"\"\"+str(x)+\"\"\"]/td[4]\"\"\")\n",
    "            body_date.get_attribute('innerHTML')\n",
    "            body_date_str = body_date.get_attribute('innerHTML')\n",
    "#             print(body_date_str)\n",
    "\n",
    "        \n",
    "            y,m,d,h,mi,s  = str_date_to_int(body_date_str)\n",
    "            body_article_date = datetime.datetime(y,m,d,h,mi,s)\n",
    "            \n",
    "            if body_article_date > cri_date:\n",
    "                \n",
    "                driver.find_element_by_xpath(\"\"\"//*[@id=\"viewFINE\"]/table/tbody/tr/td/table[3]/tbody/tr[3]/td/table[2]/tbody/tr/td[1]/table[1]/tbody/tr/td/table/tbody/tr[\"\"\" + str(x) + \"\"\"]/td[1]/a\"\"\").click()\n",
    "            \n",
    "                targetURL = driver.current_url\n",
    "                print(targetURL)\n",
    "\n",
    "                req = requests.get(targetURL)\n",
    "                html = req.content\n",
    "\n",
    "                soup = BeautifulSoup(html,'lxml')\n",
    "\n",
    "                headlines = soup.find_all(\"strong\")\n",
    "#                 print(headlines)\n",
    "                bodies = soup.find(id='articleBody')\n",
    "#                 print(bodies)\n",
    "                article_list[body_date_str] = [headlines[1].contents[1], content_to_str(find_first_line(bodies.contents)), targetURL]\n",
    "                print(article_list)\n",
    "\n",
    "                driver.back()\n",
    "            else:\n",
    "                break\n",
    "                \n",
    "        driver.back()\n",
    "\n",
    "\n",
    "            \n",
    "\n",
    "\n",
    "            \n",
    "        \n",
    "        "
   ]
  },
  {
   "cell_type": "code",
   "execution_count": null,
   "metadata": {},
   "outputs": [],
   "source": []
  },
  {
   "cell_type": "code",
   "execution_count": 122,
   "metadata": {},
   "outputs": [
    {
     "name": "stdout",
     "output_type": "stream",
     "text": [
      "2018-10-27 04:47:05\n",
      "date slicing...\n",
      "http://news.einfomax.co.kr/news/articleView.html?idxno=3474157\n",
      "[<strong>국제경제</strong>, <strong><!--CM_TITLE-->모비우스 \"미-중 무역 갈등, 중국 경제에 큰 위협\"<!--/CM_TITLE--></strong>, <strong>0</strong>]\n",
      "<td class=\"view_r\" id=\"articleBody\" style=\"padding:10px 0;\">\n",
      "\t\t\t\t\t\t\t(뉴욕=연합인포맥스) 우성문 통신원 = 신흥시장 투자의 귀재로 불리는 마크 모비우스 '모비우스 캐피털 파트너스' 설립자가 미국과의 무역 갈등은 중국 경제에 큰 위협이라고 평가했다.<br/><br/>26일 월스트리트저널(WSJ)에 따르면 모비우스 설립자는 중국 경제가 지난 분기 10년 만에 가장 느린 성장률을 나타낸 것은 중국을 위협하는 요인이 아니라고 전했다. <br/><br/>지난주 중국은 3분기 국내총생산(GDP) 성장률이 6.5%를 기록했다고 발표했다. 이는 거의 10년 만에 가장 부진한 성장률이다.<br/><br/>그러나 모비우스 설립자는 \"중국 경제 성장 경로와 관련해 큰 문제가 없다\"면서 \"중국은 가파른 속도로 성장하고 있고 성장은 중국 정부 지휘 하의 거대한 신용 공급이 국유기업 등으로 전달되며 이뤄지고 있다\"고 설명했다. <br/><br/>모비우스 설립자는 하지만 \"중국 정부의 중국 증시에 대한 외국인 투자자들의 자신감을 끌어올리려는 노력은 미국과의 무역 갈등 악화로 약화할 수 있다\"고 지적했다.<br/><br/>그는 \"중국은 미국과 3천억 달러의 무역 흑자를 가지고 있고 이를 포기하게 되면 신용이 타이트해지고 많은 기업의 실적이 악화할 뿐 아니라 실업률이 늘어날 수 있으므로 포기를 원하지 않을 것\"이라고 설명했다.<br/><br/>이어 모비우스 설립자는 \"미국과 중국 간의 무역 갈등이 전면전으로 번지고 특히 도널드 트럼프 정부가 애플 등 미국 기업들에 모든 제품을 국내에서 생산할 것을 요구한다면 중국의 고용 수준에 큰 위협을 미칠 수 있다\"면서 \"이는 중국에 주요한 문제가 될 것\"이라고 지적했다.<br/><br/>그는 \"전면전에 대해 우려하는 것은 억지스러운 느낌이 있지만, 러시아와의 갈등을 우려하는 것도 억지스러운 느낌이 들었던 때가 있었다\"면서 \"외국인 투자자들에게 현재 무역 관련 전망은 우려를 초래하고 있다\"고 덧붙였다.<br/><br/>smwoo@yna.co.kr<br/><br/>(끝)\t\t\t\t\t\t\t</td>\n",
      "{'2018-10-27 04:47:05': ['모비우스 \"미-중 무역 갈등, 중국 경제에 큰 위협\"', \" 신흥시장 투자의 귀재로 불리는 마크 모비우스 '모비우스 캐피털 파트너스' 설립자가 미국과의 무역 갈등은 중국 경제에 큰 위협이라고 평가했다.\", 'http://news.einfomax.co.kr/news/articleView.html?idxno=3474157']}\n",
      "2018-10-27 04:00:11\n",
      "date slicing...\n",
      "http://news.einfomax.co.kr/news/articleView.html?idxno=3474155\n",
      "[<strong>국제경제</strong>, <strong><!--CM_TITLE-->모건스탠리 \"미 증시, 여기서 8~10% 더 내린다\"<!--/CM_TITLE--></strong>, <strong>0</strong>]\n",
      "<td class=\"view_r\" id=\"articleBody\" style=\"padding:10px 0;\">\n",
      "\t\t\t\t\t\t\t(뉴욕=연합인포맥스) 우성문 통신원 = 주가 하락을 예측했던 모건스탠리는 미국 증시가 여기서 더 내릴 수 있다고 분석했다.<br/><br/>26일 모건스탠리의 마이클 윌슨 수석 전략가는 CNBC와의 인터뷰에서 \"현재 미국 증시의 약세장이 진행 중이고, 이는 2월부터 시작됐다\"면서 \"S&amp;P500지수는 더 떨어져 앞으로 4~8주 동안 2,450~2,500까지 내릴 수 있다\"고 전망했다.<br/><br/>이는 현재 수준에서 8~10% 추가 하락을 예측한 것이다.<br/><br/>윌슨 전략가는 \"최근 주가 하락은 S&amp;P500지수와 다우존스 30 산업평균지수이 올해 들어 올린 수익률을 모두 끌어내렸는데, 이는 더 오래갈 것\"이라고 말했다.<br/><br/>그는 \"미 연방준비제도(Fed·연준)와 다른 중앙은행들이 위기 이후 완화적 통화정책을 거둬들이며 전 세계 유동성이 증발하고 있고, 이로 인해 증시에 큰 피해가 가고 있다\"면서 \"증시 부진은 80% 정도 끝났을 수 있다\"고 분석했다. <br/><br/>윌슨 전략가는 지난 9월 미 증시가 2월 조정 구간에서 빠져나와 회복세를 나타내고 있을 때 주가 하락을 예측했다.<br/><br/>당시 윌슨 전략가는 신용 스프레드와 미 주식가치 사이 탈동조화가 나타나는 것에 대해 지적하며 증시 조정의 신호라고 분석한 바 있다.<br/><br/>윌슨 전략가는 \"이 역시 오래갈 수 있다\"며 \"현재로써 긍정적으로 볼 수 있는 것은 이 부분이 맞지 않을 수 있다는 것\"이라고 전했다.<br/><br/>또한, 그는 특히 FAANG(페이스북, 애플, 아마존, 넷플릭스, 구글)과 같은 기술 및 인터넷 관련주에 많은 비중을 두고 있는 투자자들이 가장 큰 타격을 입을 수 있다고 전망했다. <br/><br/>실제로 전날 기술주 중심으로 구성된 나스닥지수는 3.16% 급락했고 24일 나스닥지수는 조정 구간에 진입했다. <br/><br/>아울러 윌슨 전략가는 \"미국과 중국의 무역 갈등이 미국 기업들의 어닝시즌에서 더 자주 언급되는 것 등을 고려할 때 투자자들은 아직 위기에서 벗어나지 못했다\"고 덧붙였다.<br/><br/>smwoo@yna.co.kr<br/><br/>(끝)\t\t\t\t\t\t\t</td>\n",
      "{'2018-10-27 04:47:05': ['모비우스 \"미-중 무역 갈등, 중국 경제에 큰 위협\"', \" 신흥시장 투자의 귀재로 불리는 마크 모비우스 '모비우스 캐피털 파트너스' 설립자가 미국과의 무역 갈등은 중국 경제에 큰 위협이라고 평가했다.\", 'http://news.einfomax.co.kr/news/articleView.html?idxno=3474157'], '2018-10-27 04:00:11': ['모건스탠리 \"미 증시, 여기서 8~10% 더 내린다\"', ' 주가 하락을 예측했던 모건스탠리는 미국 증시가 여기서 더 내릴 수 있다고 분석했다.', 'http://news.einfomax.co.kr/news/articleView.html?idxno=3474155']}\n",
      "2018-10-27 03:08:41\n",
      "date slicing...\n",
      "http://news.einfomax.co.kr/news/articleView.html?idxno=3474152\n",
      "[<strong>국제경제</strong>, <strong><!--CM_TITLE-->&lt;뉴욕 금가격&gt; 세계 증시 부진에 0.3% 상승<!--/CM_TITLE--></strong>, <strong>1</strong>, <strong class=\"name\">김동민</strong>]\n",
      "<td class=\"view_r\" id=\"articleBody\" style=\"padding:10px 0;\">\n",
      "\t\t\t\t\t\t\t(뉴욕=연합인포맥스) 우성문 통신원 = 뉴욕 금 가격은 미 증시를 포함한 세계 증시 부진으로 인해 안전자산 수요가 증가하며 0.3% 상승했다. <br/><br/>26일 뉴욕상품거래소에서 12월물 금 가격은 전장보다 3.40달러(0.3%) 오른 1,235.80달러에 마감했다. 금값은 주간 기준으로 0.6% 상승했다.<br/><br/>미국 증시를 포함한 세계 증시가 일제히 하락하며 금값을 끌어올렸다. 지정학적 갈등과 경제 불확실성 등이 부각되면서 세계 증시는 일제히 하락했다. <br/><br/>하이리지퓨쳐스의 데이비드 메저 이사는 \"계속해서 위험 자산에서 자금이 빠져나와 안전자산으로 이동하고 있다\"면서 \"이것이 금 가격을 지지하고 있다\"고 분석했다.<br/><br/>골드머니닷컴의 알라스데이어 매슬로이드 이사 역시 \"만약 증시가 계속해서 내린다면 금값을 지지할 것\"이라고 분석했다. <br/><br/>이날 달러 역시 소폭 약세를 나타내며 금값 상승을 지지했다.<br/><br/>주요 6개국 통화 대비 달러 가치를 나타내 주는 ICE 달러지수는 0.18% 내린 96.41에 거래되고 있다. <br/><br/>금은 달러화로 거래되기 때문에 달러화 가치가 상승하면 금의 상대적인 가격 매력이 낮아져 수요가 감소한다. <br/><br/>소시에테제네랄의 로빈 바 전략가는 \"최근 전반적인 달러 강세에도 불구하고 금값이 상승한 것은 금이 드디어 안전자산으로써의 역할을 하고 있다는 것을 의미한다\"고 전했다.<br/><br/>다만 이날 미국의 경제 지표가 우수하게 나온 것은 금값 상승 폭을 소폭 제한했다. 미국의 3분기 국내총생산(GDP) 성장률은 3.5%를 기록하며 전문가 예상치 3.4%를 상회했다.<br/><br/>smwoo@yna.co.kr<br/><br/>(끝)\t\t\t\t\t\t\t</td>\n",
      "{'2018-10-27 04:47:05': ['모비우스 \"미-중 무역 갈등, 중국 경제에 큰 위협\"', \" 신흥시장 투자의 귀재로 불리는 마크 모비우스 '모비우스 캐피털 파트너스' 설립자가 미국과의 무역 갈등은 중국 경제에 큰 위협이라고 평가했다.\", 'http://news.einfomax.co.kr/news/articleView.html?idxno=3474157'], '2018-10-27 04:00:11': ['모건스탠리 \"미 증시, 여기서 8~10% 더 내린다\"', ' 주가 하락을 예측했던 모건스탠리는 미국 증시가 여기서 더 내릴 수 있다고 분석했다.', 'http://news.einfomax.co.kr/news/articleView.html?idxno=3474155'], '2018-10-27 03:08:41': ['<뉴욕 금가격> 세계 증시 부진에 0.3% 상승', ' 뉴욕 금 가격은 미 증시를 포함한 세계 증시 부진으로 인해 안전자산 수요가 증가하며 0.3% 상승했다. ', 'http://news.einfomax.co.kr/news/articleView.html?idxno=3474152']}\n",
      "2018-10-27 00:25:15\n",
      "date slicing...\n",
      "http://news.einfomax.co.kr/news/articleView.html?idxno=3474149\n",
      "[<strong>국제경제</strong>, <strong><!--CM_TITLE-->美 3분기 GDP 대한 전문가 시각<!--/CM_TITLE--></strong>, <strong>0</strong>]\n",
      "<td class=\"view_r\" id=\"articleBody\" style=\"padding:10px 0;\">\n",
      "\t\t\t\t\t\t\t(뉴욕=연합인포맥스) 우성문 통신원 = 전문가들은 26일 발표된 미국의 3분기 국내총생산(GDP) 성장률에 대해 전반적으로 훌륭하지만 몇몇 눈에 띄는 부진한 부문도 있었다고 평가했다.<br/><br/>미국의 3분기 GDP 성장률 속보치는 연율 3.5%를 기록하며 전 분기보다는 둔화했지만, 전문가 예상치는 상회했다.<br/><br/>이에 대해 윌렛어드바이저스의 스티븐 라트너 전략가는 \"훌륭한 지표가 나왔다\"고 평가했다.<br/><br/>조 바이든 전 부통령의 경제 고문이었던 제러드 번스타인 고문은 \"근본적인 트렌드는 견고하다\"면서 \"그러나 재고와 무역 부문에서는 다소 부진한 부분이 있었고 핵심 물가 역시 연율 1.6%로 둔화했다\"고 분석했다.<br/><br/>CIBC이코노믹스의 로이스 멘데스 전략가는 \"지난 분기 수출이 부진했다\"면서 \"기업들의 고정 투자도 보합권을 나타냈는데 이는 세제개편의 영향이 미미해지고 있다는 것을 뜻할 수 있다\"고 설명했다. <br/><br/>이어 그는 \"전반적으로 헤드라인 수치와 구체적 수치는 기대했던 것과 똑같이 나왔기 때문에 시장은 큰 반응을 나타내지 않을 것\"이라고 말했다. <br/><br/>어니 테데스치 이코노미스트는 \"3.5%의 GDP는 여전히 강한 수치이긴 하지만 4.2%에서 내려간 것은 순수출 하락과 재고 증가, 고정 투자 하락 때문\"이라고 설명했다. <br/><br/>RSM의 조셉 브루수엘라 전략가는 \"이번 지표는 4분기 25베이시스포인트(bp) 금리를 올리기 희망하는 연준의 정책 경로를 재확인할 것\"이라면서 \"내년에도 적어도 세 차례 금리가 인상될 것\"이라고 덧붙였다. <br/><br/>컨퍼런스보드의 브라이언 스채트킨 수석 경제학자는 \"재정 부양과 강한 사업 및 소비심리가 미국 경제가 장기간 추세 이상의 성장을 하도록 도왔다\"면서 \"하지만 2019년에는 연준 정책의 역풍과 부양 효과 희석, 외부 여건의 약화로 성장이 장기 추세로 돌아갈 것\"이라고 진단했다.<br/><br/>BMO캐피탈의 살 과디에리 연구원은 \"무역적자의 확대와 주택시장의 부진, 세금 감면이 촉진했던 상반기의 이례적인 투자 확대에서의 후퇴는 부정적인 요인\"이라고 평가했다.<br/><br/> smwoo@yna.co.kr<br/><br/>(끝)\t\t\t\t\t\t\t</td>\n",
      "{'2018-10-27 04:47:05': ['모비우스 \"미-중 무역 갈등, 중국 경제에 큰 위협\"', \" 신흥시장 투자의 귀재로 불리는 마크 모비우스 '모비우스 캐피털 파트너스' 설립자가 미국과의 무역 갈등은 중국 경제에 큰 위협이라고 평가했다.\", 'http://news.einfomax.co.kr/news/articleView.html?idxno=3474157'], '2018-10-27 04:00:11': ['모건스탠리 \"미 증시, 여기서 8~10% 더 내린다\"', ' 주가 하락을 예측했던 모건스탠리는 미국 증시가 여기서 더 내릴 수 있다고 분석했다.', 'http://news.einfomax.co.kr/news/articleView.html?idxno=3474155'], '2018-10-27 03:08:41': ['<뉴욕 금가격> 세계 증시 부진에 0.3% 상승', ' 뉴욕 금 가격은 미 증시를 포함한 세계 증시 부진으로 인해 안전자산 수요가 증가하며 0.3% 상승했다. ', 'http://news.einfomax.co.kr/news/articleView.html?idxno=3474152'], '2018-10-27 00:25:15': ['美 3분기 GDP 대한 전문가 시각', ' 전문가들은 26일 발표된 미국의 3분기 국내총생산(GDP) 성장률에 대해 전반적으로 훌륭하지만 몇몇 눈에 띄는 부진한 부문도 있었다고 평가했다.', 'http://news.einfomax.co.kr/news/articleView.html?idxno=3474149']}\n",
      "2018-10-26 23:39:43\n",
      "date slicing...\n",
      "http://news.einfomax.co.kr/news/articleView.html?idxno=3474146\n",
      "[<strong>국제경제</strong>, <strong><!--CM_TITLE-->엘 에리언 \"세계 증시 매도에도 연준 금리 올릴 것\"<!--/CM_TITLE--></strong>, <strong>0</strong>]\n",
      "<td class=\"view_r\" id=\"articleBody\" style=\"padding:10px 0;\">\n",
      "\t\t\t\t\t\t\t(뉴욕=연합인포맥스) 우성문 통신원 = 최근 세계 증시 매도세에도 미 연방준비제도(fed·연준)는 계속해서 금리를 올릴 것이라고 모하메드 엘 에리언 알리안츠 수석 경제자문이 분석했다.<br/><br/>26일 CNBC에 따르면 엘 에리언 자문은 \"아직 파티가 끝났다고 생각하지 않는다\"면서 \"우리는 지금 체제의 변화를 보고 있다\"고 말했다.<br/><br/>연준은 올해 들어 금리를 세 차례 올렸고 투자자들은 12월에 금리가 한 차례 더 인상될 것으로 예상하고 있다. <br/><br/>또한, 제롬 파월 연준 의장은 금리가 아직 중립 금리에 도달하려면 멀었다고 말했다.<br/><br/>엘 에리언 자문은 \"연준은 그동안 시장에 도움이 될 만한 발언을 하나도 하지 않았고 올해 및 내년 금리 인상 전망과 관련해 매우 일관성 없는 모습을 나타냈기 때문에 최근 시장의 가파른 변동성이 놀랍지 않다\"고 전했다.<br/><br/>또한, 시장에 대해 우려하느냐는 질문에 엘 에리언 자문은 \"현재 시장의 탈동조화 현상은 매우 중요하다\"면서 \"독일과 미국의 금리 차이가 높게 벌어지고 있고 환율 시장에서도 압력이 나타나고 있다\"고 설명했다.<br/><br/>그는 \"물론 이를 해결할 최고의 방법은 유럽이 정책 측면에서 미국을 따라잡는 것\"이라고 말했다.<br/><br/>전날 유럽중앙은행(ECB)은 금리를 동결했고 내년 여름까지는 금리를 올리지 않겠다는 뜻을 밝혔다.<br/><br/>이에 대해 엘 에리언 자문은 \"중요한 두 번째 이슈는 유동성 위험이 과소평가된 것\"이라면서 \"유동성 위험이 다시 돌아왔고 투자자들은 이에 주의를 기울여야 한다\"고 말했다.<br/><br/>smwoo@yna.co.kr<br/><br/>(끝)\t\t\t\t\t\t\t</td>\n",
      "{'2018-10-27 04:47:05': ['모비우스 \"미-중 무역 갈등, 중국 경제에 큰 위협\"', \" 신흥시장 투자의 귀재로 불리는 마크 모비우스 '모비우스 캐피털 파트너스' 설립자가 미국과의 무역 갈등은 중국 경제에 큰 위협이라고 평가했다.\", 'http://news.einfomax.co.kr/news/articleView.html?idxno=3474157'], '2018-10-27 04:00:11': ['모건스탠리 \"미 증시, 여기서 8~10% 더 내린다\"', ' 주가 하락을 예측했던 모건스탠리는 미국 증시가 여기서 더 내릴 수 있다고 분석했다.', 'http://news.einfomax.co.kr/news/articleView.html?idxno=3474155'], '2018-10-27 03:08:41': ['<뉴욕 금가격> 세계 증시 부진에 0.3% 상승', ' 뉴욕 금 가격은 미 증시를 포함한 세계 증시 부진으로 인해 안전자산 수요가 증가하며 0.3% 상승했다. ', 'http://news.einfomax.co.kr/news/articleView.html?idxno=3474152'], '2018-10-27 00:25:15': ['美 3분기 GDP 대한 전문가 시각', ' 전문가들은 26일 발표된 미국의 3분기 국내총생산(GDP) 성장률에 대해 전반적으로 훌륭하지만 몇몇 눈에 띄는 부진한 부문도 있었다고 평가했다.', 'http://news.einfomax.co.kr/news/articleView.html?idxno=3474149'], '2018-10-26 23:39:43': ['엘 에리언 \"세계 증시 매도에도 연준 금리 올릴 것\"', ' 최근 세계 증시 매도세에도 미 연방준비제도(fed·연준)는 계속해서 금리를 올릴 것이라고 모하메드 엘 에리언 알리안츠 수석 경제자문이 분석했다.', 'http://news.einfomax.co.kr/news/articleView.html?idxno=3474146']}\n"
     ]
    },
    {
     "name": "stdout",
     "output_type": "stream",
     "text": [
      "2018-10-26 22:49:55\n",
      "date slicing...\n",
      "http://news.einfomax.co.kr/news/articleView.html?idxno=3474140\n",
      "[<strong>국제경제</strong>, <strong><!--CM_TITLE-->WSJ \"위안화, 심리적 경계선 7위안 곧 도달할 것\"<!--/CM_TITLE--></strong>, <strong>0</strong>]\n",
      "<td class=\"view_r\" id=\"articleBody\" style=\"padding:10px 0;\">\n",
      "\t\t\t\t\t\t\t(뉴욕=연합인포맥스) 우성문 통신원 = 위안화가 심리적 경계선인 달러당 7위안에 곧 도달할 것이라고 26일 월스트리트저널(WSJ)이 보도했다.<br/><br/>현재 위안화는 6.95위안에서 거래되며 금융위기 이후 도달한 적 없던 7위안에 근접하고 있다.<br/><br/>WSJ은 도널드 트럼프 미 대통령과 세계 무역 갈등이 위안화에 미치는 영향이 예상보다 크지 않다면서 중국 경제 내부 문제 등이 위안화를 끌어내리고 있다고 분석했다. <br/><br/>WSJ은 위안화가 곧 7위안에 도달할 것이라면서 더 중요한 질문은 얼마나 더 위안화가 하락할지 여부며, 이것을 알기 위해서는 몇 가지 트렌드를 살펴봐야 한다고 전했다. <br/><br/>첫 번째 살펴봐야 할 점으로는 중국의 수출 현황이 꼽혔다. 올해 중국의 수출 경기는 나쁘지 않았지만, 중국 경제가 개선되면서 중국은 수출보다 수입을 더 늘리고 있다.<br/><br/>지난 2분기 중국이 외국 서비스에 지출한 순 지출은 730억 달러로 전년 동기보다 43% 증가했다. 같은 기간, 순 수출은 1천30억 달러로 전년 동기보다 17% 내렸다.<br/><br/>따라서 중국의 경상수지 흑자는 급격히 줄어들어 53억 달러를 기록해 전년 동기보다 10% 줄어들었다.<br/><br/>만약 미국의 관세가 중국의 수출 경기에 영향을 미친다면, 경상수지 흑자는 더욱 줄어들 것으로 보이며 위안화에 하락 압력으로 작용할 것으로 보인다.<br/><br/>또한, 올해 위안화를 지지했던 요인 중 하나는 포트폴리오 자금 유입이다. 외국인들은 올해 650억 달러에 해당하는 중국 정부채를 구매했다. 만약 자금 유입이 줄어든다면 위안화에는 악재로 작용하게 된다.<br/><br/>이 밖에 지켜봐야 할 요인은 부동산 시장이라고 WSJ은 전했다. 역사적으로 주택 가격이 내려가면 자본 유출도 이어지며 위안화에 약세로 작용했다.<br/><br/>만약, 중국의 부동산 시장이 약세를 나타내기 시작하면 위안화 역시 약세를 나타낼 수 있다.<br/><br/>WSJ은 위안화가 7위안까지 떨어지는 것은 시간문제라면서 현재 여러 가능성을 조합해보면 위안화가 여기서 멈추지 않고 더욱 내릴 수 있다고 덧붙였다.<br/><br/>smwoo@yna.co.kr<br/><br/>(끝)\t\t\t\t\t\t\t</td>\n",
      "{'2018-10-27 04:47:05': ['모비우스 \"미-중 무역 갈등, 중국 경제에 큰 위협\"', \" 신흥시장 투자의 귀재로 불리는 마크 모비우스 '모비우스 캐피털 파트너스' 설립자가 미국과의 무역 갈등은 중국 경제에 큰 위협이라고 평가했다.\", 'http://news.einfomax.co.kr/news/articleView.html?idxno=3474157'], '2018-10-27 04:00:11': ['모건스탠리 \"미 증시, 여기서 8~10% 더 내린다\"', ' 주가 하락을 예측했던 모건스탠리는 미국 증시가 여기서 더 내릴 수 있다고 분석했다.', 'http://news.einfomax.co.kr/news/articleView.html?idxno=3474155'], '2018-10-27 03:08:41': ['<뉴욕 금가격> 세계 증시 부진에 0.3% 상승', ' 뉴욕 금 가격은 미 증시를 포함한 세계 증시 부진으로 인해 안전자산 수요가 증가하며 0.3% 상승했다. ', 'http://news.einfomax.co.kr/news/articleView.html?idxno=3474152'], '2018-10-27 00:25:15': ['美 3분기 GDP 대한 전문가 시각', ' 전문가들은 26일 발표된 미국의 3분기 국내총생산(GDP) 성장률에 대해 전반적으로 훌륭하지만 몇몇 눈에 띄는 부진한 부문도 있었다고 평가했다.', 'http://news.einfomax.co.kr/news/articleView.html?idxno=3474149'], '2018-10-26 23:39:43': ['엘 에리언 \"세계 증시 매도에도 연준 금리 올릴 것\"', ' 최근 세계 증시 매도세에도 미 연방준비제도(fed·연준)는 계속해서 금리를 올릴 것이라고 모하메드 엘 에리언 알리안츠 수석 경제자문이 분석했다.', 'http://news.einfomax.co.kr/news/articleView.html?idxno=3474146'], '2018-10-26 22:49:55': ['WSJ \"위안화, 심리적 경계선 7위안 곧 도달할 것\"', ' 위안화가 심리적 경계선인 달러당 7위안에 곧 도달할 것이라고 26일 월스트리트저널(WSJ)이 보도했다.', 'http://news.einfomax.co.kr/news/articleView.html?idxno=3474140']}\n",
      "2018-10-26 04:49:28\n",
      "date slicing...\n",
      "2018-10-27 06:22:58\n",
      "date slicing...\n",
      "http://news.einfomax.co.kr/news/articleView.html?idxno=3474162\n",
      "[]\n",
      "None\n"
     ]
    },
    {
     "ename": "IndexError",
     "evalue": "list index out of range",
     "output_type": "error",
     "traceback": [
      "\u001b[1;31m---------------------------------------------------------------------------\u001b[0m",
      "\u001b[1;31mIndexError\u001b[0m                                Traceback (most recent call last)",
      "\u001b[1;32m<ipython-input-122-69751b61180a>\u001b[0m in \u001b[0;36m<module>\u001b[1;34m()\u001b[0m\n\u001b[1;32m----> 1\u001b[1;33m \u001b[0mstart_parse\u001b[0m\u001b[1;33m(\u001b[0m\u001b[1;33m)\u001b[0m\u001b[1;33m\u001b[0m\u001b[0m\n\u001b[0m",
      "\u001b[1;32m<ipython-input-121-968de62a0674>\u001b[0m in \u001b[0;36mstart_parse\u001b[1;34m()\u001b[0m\n\u001b[0;32m     39\u001b[0m             \u001b[0mbodies\u001b[0m \u001b[1;33m=\u001b[0m \u001b[0msoup\u001b[0m\u001b[1;33m.\u001b[0m\u001b[0mfind\u001b[0m\u001b[1;33m(\u001b[0m\u001b[0mid\u001b[0m\u001b[1;33m=\u001b[0m\u001b[1;34m'articleBody'\u001b[0m\u001b[1;33m)\u001b[0m\u001b[1;33m\u001b[0m\u001b[0m\n\u001b[0;32m     40\u001b[0m             \u001b[0mprint\u001b[0m\u001b[1;33m(\u001b[0m\u001b[0mbodies\u001b[0m\u001b[1;33m)\u001b[0m\u001b[1;33m\u001b[0m\u001b[0m\n\u001b[1;32m---> 41\u001b[1;33m             \u001b[0marticle_list\u001b[0m\u001b[1;33m[\u001b[0m\u001b[0mtop_date_str\u001b[0m\u001b[1;33m]\u001b[0m \u001b[1;33m=\u001b[0m \u001b[1;33m[\u001b[0m\u001b[0mheadlines\u001b[0m\u001b[1;33m[\u001b[0m\u001b[1;36m1\u001b[0m\u001b[1;33m]\u001b[0m\u001b[1;33m.\u001b[0m\u001b[0mcontents\u001b[0m\u001b[1;33m[\u001b[0m\u001b[1;36m1\u001b[0m\u001b[1;33m]\u001b[0m\u001b[1;33m,\u001b[0m \u001b[0mcontent_to_str\u001b[0m\u001b[1;33m(\u001b[0m\u001b[0mfind_first_line\u001b[0m\u001b[1;33m(\u001b[0m\u001b[0mbodies\u001b[0m\u001b[1;33m.\u001b[0m\u001b[0mcontents\u001b[0m\u001b[1;33m)\u001b[0m\u001b[1;33m)\u001b[0m\u001b[1;33m,\u001b[0m \u001b[0mtargetURL\u001b[0m\u001b[1;33m]\u001b[0m\u001b[1;33m\u001b[0m\u001b[0m\n\u001b[0m\u001b[0;32m     42\u001b[0m             \u001b[0mprint\u001b[0m\u001b[1;33m(\u001b[0m\u001b[0marticle_list\u001b[0m\u001b[1;33m)\u001b[0m\u001b[1;33m\u001b[0m\u001b[0m\n\u001b[0;32m     43\u001b[0m \u001b[1;33m\u001b[0m\u001b[0m\n",
      "\u001b[1;31mIndexError\u001b[0m: list index out of range"
     ]
    }
   ],
   "source": []
  },
  {
   "cell_type": "code",
   "execution_count": 127,
   "metadata": {},
   "outputs": [
    {
     "data": {
      "text/plain": [
       "{'2018-10-27 04:47:05': ['모비우스 \"미-중 무역 갈등, 중국 경제에 큰 위협\"',\n",
       "  \" 신흥시장 투자의 귀재로 불리는 마크 모비우스 '모비우스 캐피털 파트너스' 설립자가 미국과의 무역 갈등은 중국 경제에 큰 위협이라고 평가했다.\",\n",
       "  'http://news.einfomax.co.kr/news/articleView.html?idxno=3474157']}"
      ]
     },
     "execution_count": 127,
     "metadata": {},
     "output_type": "execute_result"
    }
   ],
   "source": []
  },
  {
   "cell_type": "code",
   "execution_count": 126,
   "metadata": {},
   "outputs": [
    {
     "data": {
      "text/plain": [
       "{'2018-10-28 07:00:01': ['DHL, 中 물류 비즈니스 현지 기업과 합작으로 전환',\n",
       "  ' 독일에 거점을 둔 세계적 종합 물류기업 DHL이 중국 물류 비즈니스를 현지 최대 특송기업 SF 익스프레스에 넘기면서 합작하는 것으로 발표됐다. ',\n",
       "  'http://news.einfomax.co.kr/news/articleView.html?idxno=3474223']}"
      ]
     },
     "execution_count": 126,
     "metadata": {},
     "output_type": "execute_result"
    }
   ],
   "source": []
  },
  {
   "cell_type": "code",
   "execution_count": 107,
   "metadata": {},
   "outputs": [
    {
     "name": "stdout",
     "output_type": "stream",
     "text": [
      "2018-10-27 04:47:05\n"
     ]
    }
   ],
   "source": []
  },
  {
   "cell_type": "code",
   "execution_count": 118,
   "metadata": {},
   "outputs": [
    {
     "name": "stdout",
     "output_type": "stream",
     "text": [
      "5\n",
      "6\n",
      "7\n",
      "8\n",
      "9\n"
     ]
    }
   ],
   "source": []
  },
  {
   "cell_type": "code",
   "execution_count": 129,
   "metadata": {},
   "outputs": [
    {
     "ename": "WebDriverException",
     "evalue": "Message: chrome not reachable\n  (Session info: chrome=70.0.3538.77)\n  (Driver info: chromedriver=2.43.600210 (68dcf5eebde37173d4027fa8635e332711d2874a),platform=Windows NT 6.1.7601 SP1 x86)\n",
     "output_type": "error",
     "traceback": [
      "\u001b[1;31m---------------------------------------------------------------------------\u001b[0m",
      "\u001b[1;31mWebDriverException\u001b[0m                        Traceback (most recent call last)",
      "\u001b[1;32m<ipython-input-129-ab2686a976cf>\u001b[0m in \u001b[0;36m<module>\u001b[1;34m()\u001b[0m\n\u001b[1;32m----> 1\u001b[1;33m \u001b[0mdriver\u001b[0m\u001b[1;33m.\u001b[0m\u001b[0mback\u001b[0m\u001b[1;33m(\u001b[0m\u001b[1;33m)\u001b[0m\u001b[1;33m\u001b[0m\u001b[0m\n\u001b[0m",
      "\u001b[1;32m~\\Anaconda3\\lib\\site-packages\\selenium\\webdriver\\remote\\webdriver.py\u001b[0m in \u001b[0;36mback\u001b[1;34m(self)\u001b[0m\n\u001b[0;32m    811\u001b[0m             \u001b[0mdriver\u001b[0m\u001b[1;33m.\u001b[0m\u001b[0mback\u001b[0m\u001b[1;33m(\u001b[0m\u001b[1;33m)\u001b[0m\u001b[1;33m\u001b[0m\u001b[0m\n\u001b[0;32m    812\u001b[0m         \"\"\"\n\u001b[1;32m--> 813\u001b[1;33m         \u001b[0mself\u001b[0m\u001b[1;33m.\u001b[0m\u001b[0mexecute\u001b[0m\u001b[1;33m(\u001b[0m\u001b[0mCommand\u001b[0m\u001b[1;33m.\u001b[0m\u001b[0mGO_BACK\u001b[0m\u001b[1;33m)\u001b[0m\u001b[1;33m\u001b[0m\u001b[0m\n\u001b[0m\u001b[0;32m    814\u001b[0m \u001b[1;33m\u001b[0m\u001b[0m\n\u001b[0;32m    815\u001b[0m     \u001b[1;32mdef\u001b[0m \u001b[0mforward\u001b[0m\u001b[1;33m(\u001b[0m\u001b[0mself\u001b[0m\u001b[1;33m)\u001b[0m\u001b[1;33m:\u001b[0m\u001b[1;33m\u001b[0m\u001b[0m\n",
      "\u001b[1;32m~\\Anaconda3\\lib\\site-packages\\selenium\\webdriver\\remote\\webdriver.py\u001b[0m in \u001b[0;36mexecute\u001b[1;34m(self, driver_command, params)\u001b[0m\n\u001b[0;32m    319\u001b[0m         \u001b[0mresponse\u001b[0m \u001b[1;33m=\u001b[0m \u001b[0mself\u001b[0m\u001b[1;33m.\u001b[0m\u001b[0mcommand_executor\u001b[0m\u001b[1;33m.\u001b[0m\u001b[0mexecute\u001b[0m\u001b[1;33m(\u001b[0m\u001b[0mdriver_command\u001b[0m\u001b[1;33m,\u001b[0m \u001b[0mparams\u001b[0m\u001b[1;33m)\u001b[0m\u001b[1;33m\u001b[0m\u001b[0m\n\u001b[0;32m    320\u001b[0m         \u001b[1;32mif\u001b[0m \u001b[0mresponse\u001b[0m\u001b[1;33m:\u001b[0m\u001b[1;33m\u001b[0m\u001b[0m\n\u001b[1;32m--> 321\u001b[1;33m             \u001b[0mself\u001b[0m\u001b[1;33m.\u001b[0m\u001b[0merror_handler\u001b[0m\u001b[1;33m.\u001b[0m\u001b[0mcheck_response\u001b[0m\u001b[1;33m(\u001b[0m\u001b[0mresponse\u001b[0m\u001b[1;33m)\u001b[0m\u001b[1;33m\u001b[0m\u001b[0m\n\u001b[0m\u001b[0;32m    322\u001b[0m             response['value'] = self._unwrap_value(\n\u001b[0;32m    323\u001b[0m                 response.get('value', None))\n",
      "\u001b[1;32m~\\Anaconda3\\lib\\site-packages\\selenium\\webdriver\\remote\\errorhandler.py\u001b[0m in \u001b[0;36mcheck_response\u001b[1;34m(self, response)\u001b[0m\n\u001b[0;32m    240\u001b[0m                 \u001b[0malert_text\u001b[0m \u001b[1;33m=\u001b[0m \u001b[0mvalue\u001b[0m\u001b[1;33m[\u001b[0m\u001b[1;34m'alert'\u001b[0m\u001b[1;33m]\u001b[0m\u001b[1;33m.\u001b[0m\u001b[0mget\u001b[0m\u001b[1;33m(\u001b[0m\u001b[1;34m'text'\u001b[0m\u001b[1;33m)\u001b[0m\u001b[1;33m\u001b[0m\u001b[0m\n\u001b[0;32m    241\u001b[0m             \u001b[1;32mraise\u001b[0m \u001b[0mexception_class\u001b[0m\u001b[1;33m(\u001b[0m\u001b[0mmessage\u001b[0m\u001b[1;33m,\u001b[0m \u001b[0mscreen\u001b[0m\u001b[1;33m,\u001b[0m \u001b[0mstacktrace\u001b[0m\u001b[1;33m,\u001b[0m \u001b[0malert_text\u001b[0m\u001b[1;33m)\u001b[0m\u001b[1;33m\u001b[0m\u001b[0m\n\u001b[1;32m--> 242\u001b[1;33m         \u001b[1;32mraise\u001b[0m \u001b[0mexception_class\u001b[0m\u001b[1;33m(\u001b[0m\u001b[0mmessage\u001b[0m\u001b[1;33m,\u001b[0m \u001b[0mscreen\u001b[0m\u001b[1;33m,\u001b[0m \u001b[0mstacktrace\u001b[0m\u001b[1;33m)\u001b[0m\u001b[1;33m\u001b[0m\u001b[0m\n\u001b[0m\u001b[0;32m    243\u001b[0m \u001b[1;33m\u001b[0m\u001b[0m\n\u001b[0;32m    244\u001b[0m     \u001b[1;32mdef\u001b[0m \u001b[0m_value_or_default\u001b[0m\u001b[1;33m(\u001b[0m\u001b[0mself\u001b[0m\u001b[1;33m,\u001b[0m \u001b[0mobj\u001b[0m\u001b[1;33m,\u001b[0m \u001b[0mkey\u001b[0m\u001b[1;33m,\u001b[0m \u001b[0mdefault\u001b[0m\u001b[1;33m)\u001b[0m\u001b[1;33m:\u001b[0m\u001b[1;33m\u001b[0m\u001b[0m\n",
      "\u001b[1;31mWebDriverException\u001b[0m: Message: chrome not reachable\n  (Session info: chrome=70.0.3538.77)\n  (Driver info: chromedriver=2.43.600210 (68dcf5eebde37173d4027fa8635e332711d2874a),platform=Windows NT 6.1.7601 SP1 x86)\n"
     ]
    }
   ],
   "source": []
  },
  {
   "cell_type": "code",
   "execution_count": 136,
   "metadata": {},
   "outputs": [
    {
     "name": "stdout",
     "output_type": "stream",
     "text": [
      "http://news.einfomax.co.kr/news/articleView.html?idxno=3474162\n"
     ]
    }
   ],
   "source": []
  },
  {
   "cell_type": "code",
   "execution_count": 132,
   "metadata": {},
   "outputs": [],
   "source": []
  },
  {
   "cell_type": "code",
   "execution_count": 140,
   "metadata": {},
   "outputs": [
    {
     "data": {
      "text/plain": [
       "[<strong>±¹Á¦°æÁ¦</strong>,\n",
       " <strong><!--CM_TITLE-->&lt;´º¿åÃ¤±Ç&gt; ¹Ì ±¹Ã¤°¡, ÁÖ°¡ ºÎÁø¿¡ »ó½Â¡¦2³â¹° ±Ý¸® 5ÁÖ·¡ ÃÖÀú<!--/CM_TITLE--></strong>,\n",
       " <strong>0</strong>]"
      ]
     },
     "execution_count": 140,
     "metadata": {},
     "output_type": "execute_result"
    }
   ],
   "source": []
  },
  {
   "cell_type": "code",
   "execution_count": 143,
   "metadata": {},
   "outputs": [],
   "source": []
  },
  {
   "cell_type": "code",
   "execution_count": 164,
   "metadata": {},
   "outputs": [],
   "source": [
    "#날짜 파싱하기 - 탑기사 날짜 파싱 \n",
    "headlk= driver.find_element_by_xpath(\"\"\"/html/body/table/tbody/tr/td/table[3]/tbody/tr[3]/td/table[2]/tbody/tr/td[1]/table[1]/tbody/tr/td/table/tbody/tr/td[2]/div[1]/strong\"\"\")\n",
    "\n"
   ]
  },
  {
   "cell_type": "code",
   "execution_count": 165,
   "metadata": {},
   "outputs": [
    {
     "name": "stdout",
     "output_type": "stream",
     "text": [
      "세계 1위 비디오 게임 포트나이트 개발사 가치, 150억 弗..6개월 새 3배↑\n"
     ]
    }
   ],
   "source": []
  },
  {
   "cell_type": "code",
   "execution_count": 163,
   "metadata": {},
   "outputs": [
    {
     "data": {
      "text/plain": [
       "'英 신문 가디언 \"에픽 게임즈, KKR 주도 12억5천만 弗 추가 차입 성공\"\\n\\n\"초기 투자자 中 텐센트 2012년 지분 48% 인수 때 6억6천만 弗 불과\"\\n\\n\\n\\n(서울=연합인포맥스) 선재규 기자= 전 세계적으로 가장 인기 있는 비디오 게임으로 평가되는 포트나이트 개발사인 미국에픽 게임즈 기업 가치가 6개월 사이 약 150억 달러(17조910억 원)로 3배 상승한 것으로 집계됐다.\\n\\n영국 신문 가디언은 28일 에픽 게임즈가 美 사모펀드 KKR 주도로 12억5천만 달러의 현금 추가 차입에 성공했다면서 이같이 보도했다.\\n\\n가디언은 배틀 로열 모드인 포트나이트가 지난해 출시된 후 1억2천500만 명 이상이 즐기는 최정상 비디오 게임으로 위상을 굳혔다면서, 무료 다운로드 게임이지만 등장하는 100 명의 캐릭터를 의상 등으로 꾸미는 데 유저들이 지출을 아끼지 않는다고 설명했다.\\n\\n이 때문에 경쟁 게임 메이커인 액티비전 블리저드(콜 오브 듀티 게임 메이커)와 테이크-투 인터액티브(그랜드 테프트 오토 메이커)의 시가 총액이 올해 들어 몇십억 달러 하락하는 상대적인 충격을 받았다고 가이언은 덧붙였다.\\n\\n가디언은 월트 디즈니와 함께 포트나이트 초기 투자자로 참여해온 중국 인터넷 거대 기업 텐센트가 2012년 지분 48%를 사들일 때만 해도 에픽 게임즈 가치가 6억6천만 달러에 불과했다고 지적했다.\\n\\n신문은 이어 에픽 게임즈 가치가 지난 5월에는 45억 달러로 평가됐음을 상기시켰다.\\n\\njksun@yna.co.kr\\n\\n(끝)'"
      ]
     },
     "execution_count": 163,
     "metadata": {},
     "output_type": "execute_result"
    }
   ],
   "source": []
  },
  {
   "cell_type": "code",
   "execution_count": 159,
   "metadata": {},
   "outputs": [],
   "source": [
    "driver.back()"
   ]
  },
  {
   "cell_type": "code",
   "execution_count": null,
   "metadata": {},
   "outputs": [],
   "source": []
  }
 ],
 "metadata": {
  "kernelspec": {
   "display_name": "Python 3",
   "language": "python",
   "name": "python3"
  },
  "language_info": {
   "codemirror_mode": {
    "name": "ipython",
    "version": 3
   },
   "file_extension": ".py",
   "mimetype": "text/x-python",
   "name": "python",
   "nbconvert_exporter": "python",
   "pygments_lexer": "ipython3",
   "version": "3.7.0"
  }
 },
 "nbformat": 4,
 "nbformat_minor": 2
}
