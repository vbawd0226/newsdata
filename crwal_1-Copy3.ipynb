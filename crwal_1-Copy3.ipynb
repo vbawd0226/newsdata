{
 "cells": [
  {
   "cell_type": "code",
   "execution_count": 1,
   "metadata": {},
   "outputs": [],
   "source": [
    "from selenium import webdriver\n",
    "import datetime\n",
    "import urllib\n",
    "import requests\n",
    "import re\n",
    "import time"
   ]
  },
  {
   "cell_type": "code",
   "execution_count": 27,
   "metadata": {},
   "outputs": [],
   "source": [
    "class News_parse:\n",
    "    \n",
    "    \n",
    "        \n",
    "    \n",
    "    def str_date_to_int(date_str):\n",
    "        y = int(date_str[:4])\n",
    "        m = int(date_str[5:7])\n",
    "        d = int(date_str[8:10])\n",
    "        h = int(date_str[11:13])\n",
    "        mi = int(date_str[14:16])\n",
    "\n",
    "#         print(\"date slicing...\")\n",
    "\n",
    "        return y,m,d,h,mi\n",
    "\n",
    "\n",
    "    \n",
    "    def bubbleSort(alist):\n",
    "        for passnum in range(len(alist)-1,0,-1):\n",
    "            for i in range(passnum):\n",
    "                if alist[i]<alist[i+1]:\n",
    "                    temp = alist[i]\n",
    "                    alist[i] = alist[i+1]\n",
    "                    alist[i+1] = temp\n",
    "\n",
    "    def content_to_str(body_content):\n",
    "        body_str = str(body_content)\n",
    "\n",
    "        sign_counter = 0\n",
    "        start_sign_location = 0\n",
    "        end_sign_location = 0\n",
    "        para_counter =0\n",
    "        for x in range(len(body_str)):\n",
    "            if body_str[x] == \"=\":\n",
    "                sign_counter += 1\n",
    "            if sign_counter == 2 :\n",
    "                sign_counter = x\n",
    "                start_sign_location = sign_counter\n",
    "                for w in range(x,len(body_str)):\n",
    "                    if body_str[w] == \"\\n\":\n",
    "                        para_counter += 1\n",
    "                        if para_counter == 4 :\n",
    "                            end_sign_location = w\n",
    "                            break\n",
    "                break\n",
    "#         print(start_sign_location)        \n",
    "#         print(end_sign_location)\n",
    "        return body_str[start_sign_location+1:end_sign_location+1]\n",
    "    \n",
    "    def line_ele(strings):\n",
    "    \n",
    "        return strings.replace(\"\\n\",\" \")\n",
    "    \n",
    "        \n",
    "\n",
    "    def Parse(self):\n",
    "        \n",
    "        dt=datetime.datetime.now()\n",
    "        target_date = datetime.datetime(dt.year,dt.month,dt.day-1,20,0)\n",
    "        \n",
    "        driver = webdriver.Chrome(\"C:\\\\Users\\\\infomax\\\\chromedriver_win32\\\\chromedriver\")\n",
    "        driver.implicitly_wait(2)\n",
    "        driver.get(\"http://news.einfomax.co.kr/news/searchForm.html\")\n",
    "\n",
    "        article_list = {}\n",
    "\n",
    "        name_list = [\"오진우\",\"곽세연\",\"우성문\"]\n",
    "        target_date = target_date\n",
    "\n",
    "        art_counts_1 =0\n",
    "\n",
    "        driver.find_element_by_xpath(\"\"\"//*[@id=\"search-tabs1\"]/form/fieldset[2]/div[2]/div/label[4]\"\"\").click()\n",
    "\n",
    "        for name in name_list:\n",
    "            #이름입력\n",
    "            driver.find_element_by_xpath(\"\"\"//*[@id=\"sc_word\"]\"\"\").send_keys(name)\n",
    "\n",
    "\n",
    "            #검색 클릭\n",
    "            driver.find_element_by_xpath(\"\"\"//*[@id=\"search-tabs1\"]/form/footer/div/button\"\"\").click()\n",
    "             # 리스트형 클릭\n",
    "            driver.find_element_by_xpath(\"\"\"//*[@id=\"user-container\"]/div[3]/div[2]/section/article/div[2]/header/div[2]/a[1]\"\"\").click()\n",
    "\n",
    "\n",
    "            # 탑 기사 부터 처리 \n",
    "            try:\n",
    "                top_date = driver.find_element_by_xpath(\"\"\"//*[@id=\"user-container\"]/div[3]/div[2]/section/article/div[2]/section/div[1]/div/div[2]\"\"\")\n",
    "                top_date.get_attribute('innerHTML')\n",
    "                top_date_str = top_date.get_attribute('innerHTML')\n",
    "                print(top_date_str)\n",
    "                top_date_str2 =  top_date_str[-16:].strip()\n",
    "\n",
    "                y,m,d,h,mi = News_parse.str_date_to_int(top_date_str2)\n",
    "\n",
    "                top_date_value = datetime.datetime(y,m,d,h,mi)\n",
    "\n",
    "                if top_date_value > target_date:\n",
    "                    #탑에 걸려있는 기사에 접근\n",
    "                    driver.find_element_by_xpath(\"\"\"//*[@id=\"user-container\"]/div[3]/div[2]/section/article/div[2]/section/div[1]/div/div[1]/a/strong\"\"\").click()\n",
    "                    targetURL = driver.current_url\n",
    "                    print(targetURL)\n",
    "\n",
    "                    article_head = driver.find_element_by_xpath(\"\"\"//*[@id=\"user-container\"]/div[3]/header/div/div\"\"\").text\n",
    "                    article_body_before =driver.find_element_by_xpath(\"\"\"//*[@id=\"article-view-content-div\"]\"\"\").text\n",
    "                    article_body_after = News_parse.content_to_str(article_body_before)\n",
    "\n",
    "                    art_counts_1 += 1\n",
    "#                     print(\"기사개수: \",art_counts_1)\n",
    "\n",
    "                    print(article_head)\n",
    "#                     print(article_body_after)\n",
    "                    article_list[top_date_value] = [article_head,article_body_after,targetURL]\n",
    "                    driver.back()\n",
    "\n",
    "            except ValueError: \n",
    "                print(name,\"탑기사 오류 확인할것\")\n",
    "\n",
    "\n",
    "\n",
    "            for art_num in range(1, 2):\n",
    "                #날짜 파싱하기 - 바디기사 날짜 파싱 \n",
    "                time.sleep(2)\n",
    "                body_date = driver.find_element_by_xpath(\"\"\"//*[@id=\"user-container\"]/div[3]/div[2]/section/article/div[2]/section/div[2]/div[\"\"\"+str(art_num)+\"\"\"]/div[2]\"\"\")\n",
    "                body_date.get_attribute('innerHTML')\n",
    "                body_date_str = body_date.get_attribute('innerHTML')\n",
    "#                 print(body_date_str)\n",
    "                body_date_str2 = body_date_str[-16:].strip()\n",
    "\n",
    "                y,m,d,h,mi = News_parse.str_date_to_int(body_date_str2)\n",
    "                body_date_value = datetime.datetime(y,m,d,h,mi)\n",
    "                body_date_value\n",
    "\n",
    "\n",
    "                if body_date_value > target_date :\n",
    "                #바디에 있는 기사에 접근\n",
    "                    driver.find_element_by_xpath(\"\"\"//*[@id=\"user-container\"]/div[3]/div[2]/section/article/div[2]/section/div[2]/div[\"\"\"+str(art_num)+\"\"\"]/div[1]/a/strong\"\"\").click()\n",
    "\n",
    "                    targetURL = driver.current_url\n",
    "\n",
    "                    art_counts_1 += 1\n",
    "                    print(\"기사개수: \",art_counts_1)\n",
    "\n",
    "                    print(targetURL)\n",
    "\n",
    "                    article_head = driver.find_element_by_xpath(\"\"\"//*[@id=\"user-container\"]/div[3]/header/div/div\"\"\").text\n",
    "                    article_body_before =driver.find_element_by_xpath(\"\"\"//*[@id=\"article-view-content-div\"]\"\"\").text\n",
    "                    article_body_after = News_parse.content_to_str(article_body_before)\n",
    "                    print(article_head)\n",
    "#                     print(article_body_after)\n",
    "                    article_list[body_date_value] = [article_head,article_body_after,targetURL]\n",
    "\n",
    "\n",
    "                    driver.back()\n",
    "            driver.back()\n",
    "            driver.back()\n",
    "            driver.find_element_by_xpath(\"\"\"//*[@id=\"sc_word\"]\"\"\").clear()\n",
    "            \n",
    "            article_to_list=list(article_list.keys())\n",
    "            \n",
    "        print(\"담긴 기사개수 : \",len(article_to_list))\n",
    "        print(\"원래 기사개수 : \", art_counts_1)\n",
    "\n",
    "        News_parse.bubbleSort(article_to_list)\n",
    "        temp_art = []\n",
    "        full_article = \"\"\n",
    "\n",
    "        for y in article_to_list:\n",
    "            temp_art = article_list[y]\n",
    "            full_article = full_article + \"    ▲\" +temp_art[0]+\"\\n\"+ \"    -\" + News_parse.line_ele(temp_art[1]) + \"\\n    \" + temp_art[2] +\"\\n\\n\" \n",
    "        print(\"---------이하 복사--------------------\")\n",
    "        print(full_article)\n",
    "\n",
    "            \n",
    "    "
   ]
  },
  {
   "cell_type": "code",
   "execution_count": 28,
   "metadata": {},
   "outputs": [],
   "source": [
    "News= News_parse()"
   ]
  },
  {
   "cell_type": "code",
   "execution_count": null,
   "metadata": {},
   "outputs": [
    {
     "name": "stdout",
     "output_type": "stream",
     "text": [
      "국제경제 | 오진우 기자 | 2019-01-20 07:00\n"
     ]
    }
   ],
   "source": [
    "News.Parse()"
   ]
  },
  {
   "cell_type": "code",
   "execution_count": 14,
   "metadata": {},
   "outputs": [],
   "source": [
    "driver.close()"
   ]
  },
  {
   "cell_type": "code",
   "execution_count": 6,
   "metadata": {},
   "outputs": [
    {
     "ename": "TypeError",
     "evalue": "str_date_to_int() missing 1 required positional argument: 'date_str'",
     "output_type": "error",
     "traceback": [
      "\u001b[1;31m---------------------------------------------------------------------------\u001b[0m",
      "\u001b[1;31mTypeError\u001b[0m                                 Traceback (most recent call last)",
      "\u001b[1;32m<ipython-input-6-192ba2b27b1c>\u001b[0m in \u001b[0;36m<module>\u001b[1;34m()\u001b[0m\n\u001b[1;32m----> 1\u001b[1;33m \u001b[0mstr_date_to_int\u001b[0m \u001b[1;33m=\u001b[0m \u001b[0mNews_parse\u001b[0m\u001b[1;33m.\u001b[0m\u001b[0mstr_date_to_int\u001b[0m\u001b[1;33m(\u001b[0m\u001b[1;33m)\u001b[0m\u001b[1;33m\u001b[0m\u001b[0m\n\u001b[0m",
      "\u001b[1;31mTypeError\u001b[0m: str_date_to_int() missing 1 required positional argument: 'date_str'"
     ]
    }
   ],
   "source": []
  },
  {
   "cell_type": "code",
   "execution_count": 18,
   "metadata": {},
   "outputs": [],
   "source": [
    "class test:\n",
    "    def a(x):\n",
    "        print(x)\n",
    "    def b(self):\n",
    "        test.a(\"xxaa\")"
   ]
  },
  {
   "cell_type": "code",
   "execution_count": 19,
   "metadata": {},
   "outputs": [],
   "source": [
    "test1 = test()"
   ]
  },
  {
   "cell_type": "code",
   "execution_count": 20,
   "metadata": {},
   "outputs": [
    {
     "name": "stdout",
     "output_type": "stream",
     "text": [
      "xxaa\n"
     ]
    }
   ],
   "source": [
    "test1.b()"
   ]
  },
  {
   "cell_type": "code",
   "execution_count": null,
   "metadata": {},
   "outputs": [],
   "source": []
  }
 ],
 "metadata": {
  "kernelspec": {
   "display_name": "Python 3",
   "language": "python",
   "name": "python3"
  },
  "language_info": {
   "codemirror_mode": {
    "name": "ipython",
    "version": 3
   },
   "file_extension": ".py",
   "mimetype": "text/x-python",
   "name": "python",
   "nbconvert_exporter": "python",
   "pygments_lexer": "ipython3",
   "version": "3.7.0"
  }
 },
 "nbformat": 4,
 "nbformat_minor": 2
}
